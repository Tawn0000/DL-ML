{
 "cells": [
  {
   "cell_type": "code",
   "execution_count": 9,
   "metadata": {},
   "outputs": [],
   "source": [
    "\n",
    "import numpy as np\n",
    "from scipy.special import expit as S\n",
    "\n",
    "#  neural network class definition\n",
    "\n",
    "class neuralNetwork:\n",
    "    \n",
    "    #initialise the neural network\n",
    "    def __init__(self, inputnodes, hiddennodes, outputnodes, leaningrate):\n",
    "        self.inodes = inputnodes\n",
    "        self.hnodes = hiddennodes\n",
    "        self.onodes = outputnodes\n",
    "        self.lr = leaningrate\n",
    "        self.wih = np.random.normal(0.0,pow(self.inodes,-0.5),(self.hnodes,self.inodes))\n",
    "        self.who = np.random.normal(0.0,pow(self.hnodes,-0.5),(self.onodes,self.hnodes))\n",
    "        \n",
    "        #activation_function is sigmoid function\n",
    "        self.activation_function = lambda x : S(x)\n",
    "        pass\n",
    "    \n",
    "    #train the neural network\n",
    "    def train(self, inputs, targets):\n",
    "        \n",
    "#         print(inputs.shape)\n",
    "        hidden_inputs = np.dot(self.wih,inputs)\n",
    "        hidden_outputs = S(hidden_inputs)\n",
    "        final_inputs = np.dot(self.who,hidden_outputs)\n",
    "        final_outputs = S(final_inputs)\n",
    "        \n",
    "        #calculate the errors\n",
    "        output_errors = targets - final_outputs\n",
    "#         print(np.sum(output_errors))\n",
    "        hidden_errors = np.dot(self.who.T,output_errors)\n",
    "        \n",
    "#         print(targets.shape)\n",
    "#         print(output_errors.shape)\n",
    "#         print(final_outputs.shape)\n",
    "        \n",
    "        #update the weight\n",
    "        self.who += self.lr * np.dot((output_errors * final_outputs * (1 - final_outputs)), np.transpose(hidden_outputs))\n",
    "        self.wih += self.lr * np.dot((hidden_errors * hidden_outputs * (1 - hidden_outputs)),np.transpose(inputs))\n",
    "        \n",
    "        pass\n",
    "    \n",
    "    #query the neural network\n",
    "    def query(self, inputs):\n",
    "#         print(inputs)\n",
    "        hidden_inputs = np.dot(self.wih,inputs)\n",
    "        hidden_outputs = S(hidden_inputs)\n",
    "        final_inputs = np.dot(self.who,hidden_outputs)\n",
    "        final_outputs = S(final_inputs)\n",
    "        return final_outputs\n",
    "    \n",
    "    "
   ]
  },
  {
   "cell_type": "code",
   "execution_count": 10,
   "metadata": {},
   "outputs": [],
   "source": [
    "from keras.datasets import mnist\n",
    "(x_train,y_train),(x_test,y_test) = mnist.load_data()\n",
    "x_train = x_train / 255.\n",
    "x_test = x_test / 255."
   ]
  },
  {
   "cell_type": "code",
   "execution_count": 11,
   "metadata": {},
   "outputs": [
    {
     "name": "stdout",
     "output_type": "stream",
     "text": [
      "train_ok\n"
     ]
    }
   ],
   "source": [
    "\n",
    "import matplotlib.pyplot as plt\n",
    "from keras.utils import to_categorical\n",
    "\n",
    "\n",
    "\n",
    "#number of input, hidden, ans output nodes\n",
    "input_nodes = 28*28\n",
    "hidden_nodes = 128\n",
    "output_nodes = 10\n",
    "\n",
    "#leaning rate \n",
    "learning_rate = 0.1\n",
    "\n",
    "mnist_network = neuralNetwork(input_nodes,hidden_nodes,output_nodes,learning_rate)\n",
    "\n",
    "target = to_categorical(y_train)\n",
    "\n",
    "\n",
    "for i in range(0,x_train.shape[0]):\n",
    "    mnist_network.train(x_train[i].reshape(28*28,1),target[i].reshape(10,1))\n",
    "    \n",
    "print('train_ok')\n"
   ]
  },
  {
   "cell_type": "code",
   "execution_count": 12,
   "metadata": {},
   "outputs": [
    {
     "name": "stdout",
     "output_type": "stream",
     "text": [
      "performance:  0.9541\n"
     ]
    }
   ],
   "source": [
    "# print(mnist_network.query(x_test[0].reshape(28*28,1)).shape)\n",
    "import matplotlib.pyplot as plt\n",
    "%matplotlib inline\n",
    "error_num = 0\n",
    "for i in range(0,x_test.shape[0]):\n",
    "    pred = np.argmax(mnist_network.query(x_test[i].reshape(28*28,1)))\n",
    "    if pred-y_test[i] != 0:\n",
    "        #print(np.argmax(mnist_network.query(x_test[i].reshape(28*28,1))),y_test[i],sep = ' ')\n",
    "        error_num = error_num+1\n",
    "#         plt.figure(figsize=(3, 3))\n",
    "#         plt.imshow(x_test[i], cmap='gray')\n",
    "#         plt.title(\"True:{}, Pred:{}\".format(y_test[i], pred))\n",
    "        \n",
    "#plt.show()\n",
    "print('performance: ',1-error_num/x_test.shape[0])"
   ]
  },
  {
   "cell_type": "code",
   "execution_count": null,
   "metadata": {},
   "outputs": [],
   "source": []
  }
 ],
 "metadata": {
  "kernelspec": {
   "display_name": "Python 3",
   "language": "python",
   "name": "python3"
  },
  "language_info": {
   "codemirror_mode": {
    "name": "ipython",
    "version": 3
   },
   "file_extension": ".py",
   "mimetype": "text/x-python",
   "name": "python",
   "nbconvert_exporter": "python",
   "pygments_lexer": "ipython3",
   "version": "3.6.4"
  }
 },
 "nbformat": 4,
 "nbformat_minor": 2
}
